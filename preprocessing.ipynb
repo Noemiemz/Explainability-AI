{
 "cells": [
  {
   "cell_type": "code",
   "execution_count": 2,
   "metadata": {},
   "outputs": [],
   "source": [
    "import numpy as np \n",
    "import pandas as pd"
   ]
  },
  {
   "cell_type": "code",
   "execution_count": 8,
   "metadata": {},
   "outputs": [],
   "source": [
    "weather_train_df = pd.read_csv('weather_train.csv')\n",
    "weather_test_df = pd.read_csv('weather_test.csv')\n",
    "building_meta_df = pd.read_csv('building_metadata.csv')\n",
    "train_df = pd.read_csv('train.csv')\n",
    "test_df = pd.read_csv('test.csv')\n",
    "sample_submission_df = pd.read_csv('sample_submission.csv')\n"
   ]
  },
  {
   "cell_type": "code",
   "execution_count": 9,
   "metadata": {},
   "outputs": [
    {
     "name": "stdout",
     "output_type": "stream",
     "text": [
      "Size of train data (20216100, 4)\n",
      "Size of test data (41697600, 4)\n",
      "Size of sample_submission data (41697600, 2)\n",
      "Size of weather_train data (139773, 9)\n",
      "Size of weather_test_df data (277243, 9)\n",
      "Size of building_meta_df data (1449, 6)\n"
     ]
    }
   ],
   "source": [
    "print('Size of train data', train_df.shape)\n",
    "print('Size of test data', test_df.shape)\n",
    "print('Size of sample_submission data', sample_submission_df.shape)\n",
    "print('Size of weather_train data', weather_train_df.shape)\n",
    "print('Size of weather_test_df data', weather_test_df.shape)\n",
    "print('Size of building_meta_df data', building_meta_df.shape)"
   ]
  },
  {
   "cell_type": "code",
   "execution_count": null,
   "metadata": {},
   "outputs": [],
   "source": []
  }
 ],
 "metadata": {
  "kernelspec": {
   "display_name": "Python 3",
   "language": "python",
   "name": "python3"
  },
  "language_info": {
   "codemirror_mode": {
    "name": "ipython",
    "version": 3
   },
   "file_extension": ".py",
   "mimetype": "text/x-python",
   "name": "python",
   "nbconvert_exporter": "python",
   "pygments_lexer": "ipython3",
   "version": "3.11.2"
  }
 },
 "nbformat": 4,
 "nbformat_minor": 2
}
